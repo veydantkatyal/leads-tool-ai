{
  "nbformat": 4,
  "nbformat_minor": 0,
  "metadata": {
    "colab": {
      "provenance": []
    },
    "kernelspec": {
      "name": "python3",
      "display_name": "Python 3"
    },
    "language_info": {
      "name": "python"
    }
  },
  "cells": [
    {
      "cell_type": "markdown",
      "source": [
        "**INSTALL AND IMPORT LIBRARIES**"
      ],
      "metadata": {
        "id": "ybWQSChAsrDv"
      }
    },
    {
      "cell_type": "code",
      "execution_count": 1,
      "metadata": {
        "colab": {
          "base_uri": "https://localhost:8080/"
        },
        "id": "0h5FjzAYsims",
        "outputId": "a76474cb-caad-4ed8-ab74-4921a2ab9532"
      },
      "outputs": [
        {
          "output_type": "stream",
          "name": "stdout",
          "text": [
            "Requirement already satisfied: scikit-learn in /usr/local/lib/python3.11/dist-packages (1.6.1)\n",
            "Requirement already satisfied: pandas in /usr/local/lib/python3.11/dist-packages (2.2.2)\n",
            "Requirement already satisfied: numpy in /usr/local/lib/python3.11/dist-packages (2.0.2)\n",
            "Requirement already satisfied: joblib in /usr/local/lib/python3.11/dist-packages (1.5.1)\n",
            "Requirement already satisfied: scipy>=1.6.0 in /usr/local/lib/python3.11/dist-packages (from scikit-learn) (1.15.3)\n",
            "Requirement already satisfied: threadpoolctl>=3.1.0 in /usr/local/lib/python3.11/dist-packages (from scikit-learn) (3.6.0)\n",
            "Requirement already satisfied: python-dateutil>=2.8.2 in /usr/local/lib/python3.11/dist-packages (from pandas) (2.9.0.post0)\n",
            "Requirement already satisfied: pytz>=2020.1 in /usr/local/lib/python3.11/dist-packages (from pandas) (2025.2)\n",
            "Requirement already satisfied: tzdata>=2022.7 in /usr/local/lib/python3.11/dist-packages (from pandas) (2025.2)\n",
            "Requirement already satisfied: six>=1.5 in /usr/local/lib/python3.11/dist-packages (from python-dateutil>=2.8.2->pandas) (1.17.0)\n"
          ]
        }
      ],
      "source": [
        "!pip install scikit-learn pandas numpy joblib\n",
        "\n",
        "import pandas as pd\n",
        "import numpy as np\n",
        "import joblib\n",
        "from sklearn.metrics.pairwise import cosine_similarity"
      ]
    },
    {
      "cell_type": "markdown",
      "source": [
        "**LOAD DATA+MODEL**"
      ],
      "metadata": {
        "id": "s7o_KaMwtDze"
      }
    },
    {
      "cell_type": "code",
      "source": [
        "df = pd.read_csv('leads_scoring.csv', dtype=str, low_memory=False)\n",
        "tfidf = joblib.load('lead_tfidf.pkl')"
      ],
      "metadata": {
        "id": "03aMN88GsxWO"
      },
      "execution_count": 2,
      "outputs": []
    },
    {
      "cell_type": "markdown",
      "source": [
        "**EXTRACT NAME FROM OTHER CSV FOR NAME RECS**"
      ],
      "metadata": {
        "id": "ZIaF-3ZbxP_l"
      }
    },
    {
      "cell_type": "code",
      "source": [
        "import pandas as pd\n",
        "\n",
        "df = pd.read_csv('leads_scoring.csv', dtype=str, low_memory=False)\n",
        "df_cleaned = pd.read_csv('leads_cleaned.csv', dtype=str, low_memory=False)\n",
        "\n",
        "df_name_info = df_cleaned[['permalink']].copy()\n",
        "df_name_info['name'] = df_name_info['permalink']\n",
        "df_name_info = df_name_info.drop(columns=['permalink'])\n",
        "\n",
        "df_merged = pd.concat([df_name_info, df], axis=1)\n",
        "\n",
        "cols = ['name'] + [col for col in df_merged.columns if col != 'name']\n",
        "df_merged = df_merged[cols]\n",
        "\n",
        "df_merged['name'] = df_merged['name'].str.replace('/organization/', '', regex=False)\n",
        "\n",
        "df_merged.to_csv('leads_recommender.csv', index=False)"
      ],
      "metadata": {
        "id": "x00s_wrTv8IO"
      },
      "execution_count": 3,
      "outputs": []
    },
    {
      "cell_type": "code",
      "source": [
        "df = pd.read_csv('leads_recommender.csv', dtype=str, low_memory=False)"
      ],
      "metadata": {
        "id": "Nof6T29gzX9B"
      },
      "execution_count": 8,
      "outputs": []
    },
    {
      "cell_type": "markdown",
      "source": [
        "**TRANSFORM TEXT TO TF-IDF**"
      ],
      "metadata": {
        "id": "66-5LBDWtJMq"
      }
    },
    {
      "cell_type": "code",
      "source": [
        "if any(col.startswith('tfidf_') for col in df.columns):\n",
        "    tfidf_features = [col for col in df.columns if col.startswith('tfidf_')]\n",
        "    tfidf_matrix = df[tfidf_features].values\n",
        "else:\n",
        "    tfidf_matrix = tfidf.transform(df['text_features'].astype(str)).toarray()"
      ],
      "metadata": {
        "id": "DoX-r-n0tDT-"
      },
      "execution_count": 9,
      "outputs": []
    },
    {
      "cell_type": "markdown",
      "source": [
        "**COSINE SIMILARITY**"
      ],
      "metadata": {
        "id": "Eo00T2ZLtQPe"
      }
    },
    {
      "cell_type": "code",
      "source": [
        "company_idx = 35\n",
        "company_name = df.iloc[company_idx]['name'] if 'name' in df.columns else f\"Company {company_idx}\"\n",
        "\n",
        "sims = cosine_similarity([tfidf_matrix[company_idx]], tfidf_matrix)[0]\n",
        "\n",
        "top_indices = np.argsort(sims)[::-1][1:6]\n",
        "similar_companies = df.iloc[top_indices]\n",
        "\n",
        "print(f\"Selected company: {company_name}\")\n",
        "print(\"Top 5 most similar companies:\")\n",
        "display_cols = ['name', 'market', 'city', 'country_code'] if 'name' in df.columns else df.columns\n",
        "print(similar_companies[display_cols].reset_index(drop=True).to_string(index=False))"
      ],
      "metadata": {
        "colab": {
          "base_uri": "https://localhost:8080/"
        },
        "id": "BkkPhPWntL1L",
        "outputId": "2d8f209c-9654-4a4c-c890-290c163787cf"
      },
      "execution_count": 16,
      "outputs": [
        {
          "output_type": "stream",
          "name": "stdout",
          "text": [
            "Selected company: 10x10-room\n",
            "Top 5 most similar companies:\n",
            "              name   market          city country_code\n",
            "      sai-medisoft software        durham          usa\n",
            "        feed-media software san francisco          usa\n",
            "          sagefire software       boulder          usa\n",
            "saffron-technology software         other          usa\n",
            "           feedzai software     san mateo          usa\n"
          ]
        }
      ]
    }
  ]
}